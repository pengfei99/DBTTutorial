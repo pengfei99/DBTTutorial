{
 "cells": [
  {
   "cell_type": "code",
   "execution_count": 7,
   "metadata": {
    "collapsed": true
   },
   "outputs": [],
   "source": [
    "from pyspark.sql import SparkSession, DataFrame\n",
    "from pyspark.sql.types import StructField, StructType, StringType, LongType, IntegerType\n",
    "from pyspark.sql.functions import to_timestamp\n",
    "import os"
   ]
  },
  {
   "cell_type": "code",
   "execution_count": 2,
   "outputs": [],
   "source": [
    "root_path = \"my_dbt_project/data\"\n",
    "customer = f\"{root_path}/customer.csv\"\n",
    "orders = f\"{root_path}/orders.csv\"\n",
    "state = f\"{root_path}/state.csv\""
   ],
   "metadata": {
    "collapsed": false,
    "pycharm": {
     "name": "#%%\n"
    }
   }
  },
  {
   "cell_type": "code",
   "execution_count": 3,
   "outputs": [
    {
     "name": "stderr",
     "output_type": "stream",
     "text": [
      "22/01/27 22:39:05 WARN Utils: Your hostname, ubuntu resolves to a loopback address: 127.0.1.1; using 192.168.184.146 instead (on interface ens33)\n",
      "22/01/27 22:39:05 WARN Utils: Set SPARK_LOCAL_IP if you need to bind to another address\n",
      "WARNING: An illegal reflective access operation has occurred\n",
      "WARNING: Illegal reflective access by org.apache.spark.unsafe.Platform (file:/opt/spark/spark-3.1.2/jars/spark-unsafe_2.12-3.1.2.jar) to constructor java.nio.DirectByteBuffer(long,int)\n",
      "WARNING: Please consider reporting this to the maintainers of org.apache.spark.unsafe.Platform\n",
      "WARNING: Use --illegal-access=warn to enable warnings of further illegal reflective access operations\n",
      "WARNING: All illegal access operations will be denied in a future release\n"
     ]
    },
    {
     "name": "stdout",
     "output_type": "stream",
     "text": [
      ":: loading settings :: url = jar:file:/opt/spark/spark-3.1.2/jars/ivy-2.4.0.jar!/org/apache/ivy/core/settings/ivysettings.xml\n"
     ]
    },
    {
     "name": "stderr",
     "output_type": "stream",
     "text": [
      "Ivy Default Cache set to: /home/pliu/.ivy2/cache\n",
      "The jars for the packages stored in: /home/pliu/.ivy2/jars\n",
      "org.postgresql#postgresql added as a dependency\n",
      ":: resolving dependencies :: org.apache.spark#spark-submit-parent-6e0725ff-fda0-45cf-9d20-cd1ad935879b;1.0\n",
      "\tconfs: [default]\n",
      "\tfound org.postgresql#postgresql;42.2.24 in central\n",
      "\tfound org.checkerframework#checker-qual;3.5.0 in central\n",
      "downloading https://repo1.maven.org/maven2/org/postgresql/postgresql/42.2.24/postgresql-42.2.24.jar ...\n",
      "\t[SUCCESSFUL ] org.postgresql#postgresql;42.2.24!postgresql.jar (166ms)\n",
      "downloading https://repo1.maven.org/maven2/org/checkerframework/checker-qual/3.5.0/checker-qual-3.5.0.jar ...\n",
      "\t[SUCCESSFUL ] org.checkerframework#checker-qual;3.5.0!checker-qual.jar (30ms)\n",
      ":: resolution report :: resolve 1954ms :: artifacts dl 202ms\n",
      "\t:: modules in use:\n",
      "\torg.checkerframework#checker-qual;3.5.0 from central in [default]\n",
      "\torg.postgresql#postgresql;42.2.24 from central in [default]\n",
      "\t---------------------------------------------------------------------\n",
      "\t|                  |            modules            ||   artifacts   |\n",
      "\t|       conf       | number| search|dwnlded|evicted|| number|dwnlded|\n",
      "\t---------------------------------------------------------------------\n",
      "\t|      default     |   2   |   2   |   2   |   0   ||   2   |   2   |\n",
      "\t---------------------------------------------------------------------\n",
      ":: retrieving :: org.apache.spark#spark-submit-parent-6e0725ff-fda0-45cf-9d20-cd1ad935879b\n",
      "\tconfs: [default]\n",
      "\t2 artifacts copied, 0 already retrieved (1192kB/29ms)\n",
      "22/01/27 22:39:09 WARN NativeCodeLoader: Unable to load native-hadoop library for your platform... using builtin-java classes where applicable\n",
      "Using Spark's default log4j profile: org/apache/spark/log4j-defaults.properties\n",
      "Setting default log level to \"WARN\".\n",
      "To adjust logging level use sc.setLogLevel(newLevel). For SparkR, use setLogLevel(newLevel).\n"
     ]
    }
   ],
   "source": [
    "local = True\n",
    "if local:\n",
    "    spark = SparkSession.builder.master(\"local[4]\").appName(\"Load_csv_to_postgres\").config('spark.jars.packages',\n",
    "                                                                                           'org.postgresql:postgresql:42.2.24').getOrCreate()\n",
    "else:\n",
    "    spark = SparkSession.builder \\\n",
    "        .master(\"k8s://https://kubernetes.default.svc:443\") \\\n",
    "        .appName(\"Load_csv_to_postgres\") \\\n",
    "        .config(\"spark.kubernetes.container.image\", os.environ['IMAGE_NAME']) \\\n",
    "        .config(\"spark.kubernetes.authenticate.driver.serviceAccountName\", os.environ['KUBERNETES_SERVICE_ACCOUNT']) \\\n",
    "        .config(\"spark.kubernetes.namespace\", os.environ['KUBERNETES_NAMESPACE']) \\\n",
    "        .config(\"spark.executor.instances\", \"4\") \\\n",
    "        .config(\"spark.executor.memory\", \"8g\") \\\n",
    "        .config('spark.jars.packages', 'org.postgresql:postgresql:42.2.24') \\\n",
    "        .getOrCreate()\n"
   ],
   "metadata": {
    "collapsed": false,
    "pycharm": {
     "name": "#%%\n"
    }
   }
  },
  {
   "cell_type": "markdown",
   "source": [
    "# 0. Setup postgres connection"
   ],
   "metadata": {
    "collapsed": false,
    "pycharm": {
     "name": "#%% md\n"
    }
   }
  },
  {
   "cell_type": "code",
   "execution_count": null,
   "outputs": [],
   "source": [
    "# postgresql connexion config\n",
    "db_name=\"dbt_project\"\n",
    "host_name=\"127.0.0.1\"\n",
    "db_url=f\"jdbc:postgresql://{host_name}:5432/{db_name}\"\n",
    "user=\"pliu\"\n",
    "password=\"changeMe\"\n",
    "driver=\"org.postgresql.Driver\"\n",
    "# note the driver value need to be changed if you use other database\n",
    "# e.g. Mysql: com.mysql.jdbc.Driver\n",
    "#     postgresql: org.postgresql.Driver\n",
    "db_properties={\"user\": user, \"password\": password, \"driver\" : driver }"
   ],
   "metadata": {
    "collapsed": false,
    "pycharm": {
     "name": "#%%\n"
    }
   }
  },
  {
   "cell_type": "markdown",
   "source": [
    "# 1. Load customer csv to table csv"
   ],
   "metadata": {
    "collapsed": false,
    "pycharm": {
     "name": "#%% md\n"
    }
   }
  },
  {
   "cell_type": "code",
   "execution_count": 4,
   "outputs": [
    {
     "name": "stdout",
     "output_type": "stream",
     "text": [
      "+-----------+-------+--------------------+----------+-------------------+-------------------+\n",
      "|customer_id|zipcode|                city|state_code|   datetime_created|   datetime_updated|\n",
      "+-----------+-------+--------------------+----------+-------------------+-------------------+\n",
      "|          1|  14409|              franca|        SP|2017-10-18 00:00:00|2017-10-18 00:00:00|\n",
      "|          2|   9790|sao bernardo do c...|        SP|2017-10-18 00:00:00|2017-10-18 00:00:00|\n",
      "|          3|   1151|           sao paulo|        SP|2017-10-18 00:00:00|2017-10-18 00:00:00|\n",
      "|          4|   8775|     mogi das cruzes|        SP|2017-10-18 00:00:00|2017-10-18 00:00:00|\n",
      "|          5|  13056|            campinas|        SP|2017-10-18 00:00:00|2017-10-18 00:00:00|\n",
      "|          6|  89254|      jaragua do sul|        SC|2017-10-18 00:00:00|2017-10-18 00:00:00|\n",
      "|          7|   4534|           sao paulo|        SP|2017-10-18 00:00:00|2017-10-18 00:00:00|\n",
      "|          8|  35182|             timoteo|        MG|2017-10-18 00:00:00|2017-10-18 00:00:00|\n",
      "|          9|  81560|            curitiba|        PR|2017-10-18 00:00:00|2017-10-18 00:00:00|\n",
      "|         10|  30575|      belo horizonte|        MG|2017-10-18 00:00:00|2017-10-18 00:00:00|\n",
      "|         11|  39400|       montes claros|        MG|2017-10-18 00:00:00|2017-10-18 00:00:00|\n",
      "|         12|  20231|      rio de janeiro|        RJ|2017-10-18 00:00:00|2017-10-18 00:00:00|\n",
      "|         13|  18682|    lencois paulista|        SP|2017-10-18 00:00:00|2017-10-18 00:00:00|\n",
      "|         14|   5704|           sao paulo|        SP|2017-10-18 00:00:00|2017-10-18 00:00:00|\n",
      "|         15|  95110|       caxias do sul|        RS|2017-10-18 00:00:00|2017-10-18 00:00:00|\n",
      "|         16|  13412|          piracicaba|        SP|2017-10-18 00:00:00|2017-10-18 00:00:00|\n",
      "|         17|  22750|      rio de janeiro|        RJ|2017-10-18 00:00:00|2017-10-18 00:00:00|\n",
      "|         18|   7124|           guarulhos|        SP|2017-10-18 00:00:00|2017-10-18 00:00:00|\n",
      "|         19|   5416|           sao paulo|        SP|2017-10-18 00:00:00|2017-10-18 00:00:00|\n",
      "|         20|  68485|              pacaja|        PA|2017-10-18 00:00:00|2017-10-18 00:00:00|\n",
      "+-----------+-------+--------------------+----------+-------------------+-------------------+\n",
      "only showing top 20 rows\n",
      "\n"
     ]
    }
   ],
   "source": [
    "\n",
    "customer_df = spark.read.options(header=\"True\",inferSchema='True',delimiter=',').csv(customer)\n",
    "customer_df.show()"
   ],
   "metadata": {
    "collapsed": false,
    "pycharm": {
     "name": "#%%\n"
    }
   }
  },
  {
   "cell_type": "code",
   "execution_count": 5,
   "outputs": [
    {
     "name": "stdout",
     "output_type": "stream",
     "text": [
      "root\n",
      " |-- customer_id: integer (nullable = true)\n",
      " |-- zipcode: integer (nullable = true)\n",
      " |-- city: string (nullable = true)\n",
      " |-- state_code: string (nullable = true)\n",
      " |-- datetime_created: string (nullable = true)\n",
      " |-- datetime_updated: string (nullable = true)\n",
      "\n"
     ]
    }
   ],
   "source": [
    "customer_df.printSchema()"
   ],
   "metadata": {
    "collapsed": false,
    "pycharm": {
     "name": "#%%\n"
    }
   }
  },
  {
   "cell_type": "code",
   "execution_count": 8,
   "outputs": [
    {
     "name": "stdout",
     "output_type": "stream",
     "text": [
      "+-----------+-------+--------------------+----------+-------------------+-------------------+-------------------+-------------------+\n",
      "|customer_id|zipcode|                city|state_code|   datetime_created|   datetime_updated|      creation_date|        update_date|\n",
      "+-----------+-------+--------------------+----------+-------------------+-------------------+-------------------+-------------------+\n",
      "|          1|  14409|              franca|        SP|2017-10-18 00:00:00|2017-10-18 00:00:00|2017-10-18 00:00:00|2017-10-18 00:00:00|\n",
      "|          2|   9790|sao bernardo do c...|        SP|2017-10-18 00:00:00|2017-10-18 00:00:00|2017-10-18 00:00:00|2017-10-18 00:00:00|\n",
      "|          3|   1151|           sao paulo|        SP|2017-10-18 00:00:00|2017-10-18 00:00:00|2017-10-18 00:00:00|2017-10-18 00:00:00|\n",
      "|          4|   8775|     mogi das cruzes|        SP|2017-10-18 00:00:00|2017-10-18 00:00:00|2017-10-18 00:00:00|2017-10-18 00:00:00|\n",
      "|          5|  13056|            campinas|        SP|2017-10-18 00:00:00|2017-10-18 00:00:00|2017-10-18 00:00:00|2017-10-18 00:00:00|\n",
      "|          6|  89254|      jaragua do sul|        SC|2017-10-18 00:00:00|2017-10-18 00:00:00|2017-10-18 00:00:00|2017-10-18 00:00:00|\n",
      "|          7|   4534|           sao paulo|        SP|2017-10-18 00:00:00|2017-10-18 00:00:00|2017-10-18 00:00:00|2017-10-18 00:00:00|\n",
      "|          8|  35182|             timoteo|        MG|2017-10-18 00:00:00|2017-10-18 00:00:00|2017-10-18 00:00:00|2017-10-18 00:00:00|\n",
      "|          9|  81560|            curitiba|        PR|2017-10-18 00:00:00|2017-10-18 00:00:00|2017-10-18 00:00:00|2017-10-18 00:00:00|\n",
      "|         10|  30575|      belo horizonte|        MG|2017-10-18 00:00:00|2017-10-18 00:00:00|2017-10-18 00:00:00|2017-10-18 00:00:00|\n",
      "|         11|  39400|       montes claros|        MG|2017-10-18 00:00:00|2017-10-18 00:00:00|2017-10-18 00:00:00|2017-10-18 00:00:00|\n",
      "|         12|  20231|      rio de janeiro|        RJ|2017-10-18 00:00:00|2017-10-18 00:00:00|2017-10-18 00:00:00|2017-10-18 00:00:00|\n",
      "|         13|  18682|    lencois paulista|        SP|2017-10-18 00:00:00|2017-10-18 00:00:00|2017-10-18 00:00:00|2017-10-18 00:00:00|\n",
      "|         14|   5704|           sao paulo|        SP|2017-10-18 00:00:00|2017-10-18 00:00:00|2017-10-18 00:00:00|2017-10-18 00:00:00|\n",
      "|         15|  95110|       caxias do sul|        RS|2017-10-18 00:00:00|2017-10-18 00:00:00|2017-10-18 00:00:00|2017-10-18 00:00:00|\n",
      "|         16|  13412|          piracicaba|        SP|2017-10-18 00:00:00|2017-10-18 00:00:00|2017-10-18 00:00:00|2017-10-18 00:00:00|\n",
      "|         17|  22750|      rio de janeiro|        RJ|2017-10-18 00:00:00|2017-10-18 00:00:00|2017-10-18 00:00:00|2017-10-18 00:00:00|\n",
      "|         18|   7124|           guarulhos|        SP|2017-10-18 00:00:00|2017-10-18 00:00:00|2017-10-18 00:00:00|2017-10-18 00:00:00|\n",
      "|         19|   5416|           sao paulo|        SP|2017-10-18 00:00:00|2017-10-18 00:00:00|2017-10-18 00:00:00|2017-10-18 00:00:00|\n",
      "|         20|  68485|              pacaja|        PA|2017-10-18 00:00:00|2017-10-18 00:00:00|2017-10-18 00:00:00|2017-10-18 00:00:00|\n",
      "+-----------+-------+--------------------+----------+-------------------+-------------------+-------------------+-------------------+\n",
      "only showing top 20 rows\n",
      "\n"
     ]
    }
   ],
   "source": [
    "clean_customer_df=customer_df.withColumn(\"creation_date\", to_timestamp(\"datetime_created\", \"yyyy-MM-dd HH:mm:ss\"))\\\n",
    "           .withColumn(\"update_date\",to_timestamp(\"datetime_updated\",\"yyyy-MM-dd HH:mm:ss\"))\n",
    "\n",
    "clean_customer_df.show()"
   ],
   "metadata": {
    "collapsed": false,
    "pycharm": {
     "name": "#%%\n"
    }
   }
  },
  {
   "cell_type": "code",
   "execution_count": 9,
   "outputs": [
    {
     "name": "stdout",
     "output_type": "stream",
     "text": [
      "root\n",
      " |-- customer_id: integer (nullable = true)\n",
      " |-- zipcode: integer (nullable = true)\n",
      " |-- city: string (nullable = true)\n",
      " |-- state_code: string (nullable = true)\n",
      " |-- datetime_created: string (nullable = true)\n",
      " |-- datetime_updated: string (nullable = true)\n",
      " |-- creation_date: timestamp (nullable = true)\n",
      " |-- update_date: timestamp (nullable = true)\n",
      "\n"
     ]
    }
   ],
   "source": [
    "clean_customer_df.printSchema()"
   ],
   "metadata": {
    "collapsed": false,
    "pycharm": {
     "name": "#%%\n"
    }
   }
  },
  {
   "cell_type": "code",
   "execution_count": 24,
   "outputs": [],
   "source": [
    "# write to postgres db server, with table name customers\n",
    "clean_customer_df.write.jdbc(url=db_url,table=\"customers\",mode='overwrite',properties=db_properties)"
   ],
   "metadata": {
    "collapsed": false,
    "pycharm": {
     "name": "#%%\n"
    }
   }
  },
  {
   "cell_type": "markdown",
   "source": [
    "You can check the generated customer table in postgres, the datetime_created column has type text (because it has string type in dataframe), the creation_date column has type timestamp (because it has timestamp type in dataframe)"
   ],
   "metadata": {
    "collapsed": false,
    "pycharm": {
     "name": "#%% md\n"
    }
   }
  },
  {
   "cell_type": "markdown",
   "source": [
    "# 2. Load order csv"
   ],
   "metadata": {
    "collapsed": false,
    "pycharm": {
     "name": "#%% md\n"
    }
   }
  },
  {
   "cell_type": "code",
   "execution_count": 14,
   "outputs": [
    {
     "name": "stdout",
     "output_type": "stream",
     "text": [
      "+--------------------+-----------+------------+------------------------+-------------------+----------------------------+-----------------------------+-----------------------------+\n",
      "|            order_id|customer_id|order_status|order_purchase_timestamp|  order_approved_at|order_delivered_carrier_date|order_delivered_customer_date|order_estimated_delivery_date|\n",
      "+--------------------+-----------+------------+------------------------+-------------------+----------------------------+-----------------------------+-----------------------------+\n",
      "|e481f51cbdc54678b...|         69|   delivered|     2017-10-02 10:56:33|2017-10-02 11:07:15|         2017-10-04 19:55:00|          2017-10-10 21:25:13|          2017-10-18 00:00:00|\n",
      "|53cdb2fc8bc7dce0b...|         17|   delivered|     2018-07-24 20:41:37|2018-07-26 03:24:27|         2018-07-26 14:31:00|          2018-08-07 15:27:45|          2018-08-13 00:00:00|\n",
      "|47770eb9100c2d0c4...|         26|   delivered|     2018-08-08 08:38:49|2018-08-08 08:55:23|         2018-08-08 13:50:00|          2018-08-17 18:06:29|          2018-09-04 00:00:00|\n",
      "|949d5b44dbf5de918...|         35|   delivered|     2017-11-18 19:28:06|2017-11-18 19:45:59|         2017-11-22 13:39:59|          2017-12-02 00:28:42|          2017-12-15 00:00:00|\n",
      "|ad21c59c0840e6cb8...|         23|   delivered|     2018-02-13 21:18:39|2018-02-13 22:20:29|         2018-02-14 19:46:34|          2018-02-16 18:17:02|          2018-02-26 00:00:00|\n",
      "|a4591c265e18cb1dc...|         82|   delivered|     2017-07-09 21:57:05|2017-07-09 22:10:13|         2017-07-11 14:58:04|          2017-07-26 10:57:55|          2017-08-01 00:00:00|\n",
      "|136cce7faa42fdb2c...|         44|    invoiced|     2017-04-11 12:22:08|2017-04-13 13:25:17|                        null|                         null|          2017-05-09 00:00:00|\n",
      "|6514b8ad8028c9f2c...|         47|   delivered|     2017-05-16 13:10:30|2017-05-16 13:22:11|         2017-05-22 10:07:46|          2017-05-26 12:55:51|          2017-06-07 00:00:00|\n",
      "|76c6e866289321a7c...|         99|   delivered|     2017-01-23 18:29:09|2017-01-25 02:50:47|         2017-01-26 14:16:31|          2017-02-02 14:08:10|          2017-03-06 00:00:00|\n",
      "|e69bfb5eb88e0ed6a...|         57|   delivered|     2017-07-29 11:55:02|2017-07-29 12:05:32|         2017-08-10 19:45:24|          2017-08-16 17:14:30|          2017-08-23 00:00:00|\n",
      "|e6ce16cb79ec1d90b...|         46|   delivered|     2017-05-16 19:41:10|2017-05-16 19:50:18|         2017-05-18 11:40:40|          2017-05-29 11:18:31|          2017-06-07 00:00:00|\n",
      "|34513ce0c4fab462a...|         26|   delivered|     2017-07-13 19:58:11|2017-07-13 20:10:08|         2017-07-14 18:43:29|          2017-07-19 14:04:48|          2017-08-08 00:00:00|\n",
      "|82566a660a982b15f...|         82|   delivered|     2018-06-07 10:06:19|2018-06-09 03:13:12|         2018-06-11 13:29:00|          2018-06-19 12:05:52|          2018-07-18 00:00:00|\n",
      "|5ff96c15d0b717ac6...|         14|   delivered|     2018-07-25 17:44:10|2018-07-25 17:55:14|         2018-07-26 13:16:00|          2018-07-30 15:52:25|          2018-08-08 00:00:00|\n",
      "|432aaf21d85167c2c...|         14|   delivered|     2018-03-01 14:14:28|2018-03-01 15:10:47|         2018-03-02 21:09:20|          2018-03-12 23:36:26|          2018-03-21 00:00:00|\n",
      "|dcb36b511fcac050b...|         86|   delivered|     2018-06-07 19:03:12|2018-06-12 23:31:02|         2018-06-11 14:54:00|          2018-06-21 15:34:32|          2018-07-04 00:00:00|\n",
      "|403b97836b0c04a62...|         47|   delivered|     2018-01-02 19:00:43|2018-01-02 19:09:04|         2018-01-03 18:19:09|          2018-01-20 01:38:59|          2018-02-06 00:00:00|\n",
      "|116f0b09343b49556...|         99|   delivered|     2017-12-26 23:41:31|2017-12-26 23:50:22|         2017-12-28 18:33:05|          2018-01-08 22:36:36|          2018-01-29 00:00:00|\n",
      "|85ce859fd6dc634de...|         29|   delivered|     2017-11-21 00:03:41|2017-11-21 00:14:22|         2017-11-23 21:32:26|          2017-11-27 18:28:00|          2017-12-11 00:00:00|\n",
      "|83018ec114eee8641...|         96|   delivered|     2017-10-26 15:54:26|2017-10-26 16:08:14|         2017-10-26 21:46:53|          2017-11-08 22:22:00|          2017-11-23 00:00:00|\n",
      "+--------------------+-----------+------------+------------------------+-------------------+----------------------------+-----------------------------+-----------------------------+\n",
      "only showing top 20 rows\n",
      "\n"
     ]
    }
   ],
   "source": [
    "order_df=spark.read.options(header='True',inferSchema='True',delimiter=',').csv(orders)\n",
    "order_df.show()"
   ],
   "metadata": {
    "collapsed": false,
    "pycharm": {
     "name": "#%%\n"
    }
   }
  },
  {
   "cell_type": "code",
   "execution_count": 15,
   "outputs": [
    {
     "name": "stdout",
     "output_type": "stream",
     "text": [
      "root\n",
      " |-- order_id: string (nullable = true)\n",
      " |-- customer_id: integer (nullable = true)\n",
      " |-- order_status: string (nullable = true)\n",
      " |-- order_purchase_timestamp: string (nullable = true)\n",
      " |-- order_approved_at: string (nullable = true)\n",
      " |-- order_delivered_carrier_date: string (nullable = true)\n",
      " |-- order_delivered_customer_date: string (nullable = true)\n",
      " |-- order_estimated_delivery_date: string (nullable = true)\n",
      "\n"
     ]
    }
   ],
   "source": [
    "order_df.printSchema()"
   ],
   "metadata": {
    "collapsed": false,
    "pycharm": {
     "name": "#%%\n"
    }
   }
  },
  {
   "cell_type": "code",
   "execution_count": 18,
   "outputs": [
    {
     "name": "stdout",
     "output_type": "stream",
     "text": [
      "+--------------------+-----------+------------+-------------------+-------------------+-----------------------+------------------------+-------------------------+\n",
      "|            order_id|customer_id|order_status|order_purchase_date|order_approved_date|order_deli_carrier_date|order_deli_customer_date|order_estimated_deli_date|\n",
      "+--------------------+-----------+------------+-------------------+-------------------+-----------------------+------------------------+-------------------------+\n",
      "|e481f51cbdc54678b...|         69|   delivered|2017-10-02 10:56:33|2017-10-02 11:07:15|    2017-10-04 19:55:00|     2017-10-10 21:25:13|      2017-10-18 00:00:00|\n",
      "|53cdb2fc8bc7dce0b...|         17|   delivered|2018-07-24 20:41:37|2018-07-26 03:24:27|    2018-07-26 14:31:00|     2018-08-07 15:27:45|      2018-08-13 00:00:00|\n",
      "|47770eb9100c2d0c4...|         26|   delivered|2018-08-08 08:38:49|2018-08-08 08:55:23|    2018-08-08 13:50:00|     2018-08-17 18:06:29|      2018-09-04 00:00:00|\n",
      "|949d5b44dbf5de918...|         35|   delivered|2017-11-18 19:28:06|2017-11-18 19:45:59|    2017-11-22 13:39:59|     2017-12-02 00:28:42|      2017-12-15 00:00:00|\n",
      "|ad21c59c0840e6cb8...|         23|   delivered|2018-02-13 21:18:39|2018-02-13 22:20:29|    2018-02-14 19:46:34|     2018-02-16 18:17:02|      2018-02-26 00:00:00|\n",
      "|a4591c265e18cb1dc...|         82|   delivered|2017-07-09 21:57:05|2017-07-09 22:10:13|    2017-07-11 14:58:04|     2017-07-26 10:57:55|      2017-08-01 00:00:00|\n",
      "|136cce7faa42fdb2c...|         44|    invoiced|2017-04-11 12:22:08|2017-04-13 13:25:17|                   null|                    null|      2017-05-09 00:00:00|\n",
      "|6514b8ad8028c9f2c...|         47|   delivered|2017-05-16 13:10:30|2017-05-16 13:22:11|    2017-05-22 10:07:46|     2017-05-26 12:55:51|      2017-06-07 00:00:00|\n",
      "|76c6e866289321a7c...|         99|   delivered|2017-01-23 18:29:09|2017-01-25 02:50:47|    2017-01-26 14:16:31|     2017-02-02 14:08:10|      2017-03-06 00:00:00|\n",
      "|e69bfb5eb88e0ed6a...|         57|   delivered|2017-07-29 11:55:02|2017-07-29 12:05:32|    2017-08-10 19:45:24|     2017-08-16 17:14:30|      2017-08-23 00:00:00|\n",
      "|e6ce16cb79ec1d90b...|         46|   delivered|2017-05-16 19:41:10|2017-05-16 19:50:18|    2017-05-18 11:40:40|     2017-05-29 11:18:31|      2017-06-07 00:00:00|\n",
      "|34513ce0c4fab462a...|         26|   delivered|2017-07-13 19:58:11|2017-07-13 20:10:08|    2017-07-14 18:43:29|     2017-07-19 14:04:48|      2017-08-08 00:00:00|\n",
      "|82566a660a982b15f...|         82|   delivered|2018-06-07 10:06:19|2018-06-09 03:13:12|    2018-06-11 13:29:00|     2018-06-19 12:05:52|      2018-07-18 00:00:00|\n",
      "|5ff96c15d0b717ac6...|         14|   delivered|2018-07-25 17:44:10|2018-07-25 17:55:14|    2018-07-26 13:16:00|     2018-07-30 15:52:25|      2018-08-08 00:00:00|\n",
      "|432aaf21d85167c2c...|         14|   delivered|2018-03-01 14:14:28|2018-03-01 15:10:47|    2018-03-02 21:09:20|     2018-03-12 23:36:26|      2018-03-21 00:00:00|\n",
      "|dcb36b511fcac050b...|         86|   delivered|2018-06-07 19:03:12|2018-06-12 23:31:02|    2018-06-11 14:54:00|     2018-06-21 15:34:32|      2018-07-04 00:00:00|\n",
      "|403b97836b0c04a62...|         47|   delivered|2018-01-02 19:00:43|2018-01-02 19:09:04|    2018-01-03 18:19:09|     2018-01-20 01:38:59|      2018-02-06 00:00:00|\n",
      "|116f0b09343b49556...|         99|   delivered|2017-12-26 23:41:31|2017-12-26 23:50:22|    2017-12-28 18:33:05|     2018-01-08 22:36:36|      2018-01-29 00:00:00|\n",
      "|85ce859fd6dc634de...|         29|   delivered|2017-11-21 00:03:41|2017-11-21 00:14:22|    2017-11-23 21:32:26|     2017-11-27 18:28:00|      2017-12-11 00:00:00|\n",
      "|83018ec114eee8641...|         96|   delivered|2017-10-26 15:54:26|2017-10-26 16:08:14|    2017-10-26 21:46:53|     2017-11-08 22:22:00|      2017-11-23 00:00:00|\n",
      "+--------------------+-----------+------------+-------------------+-------------------+-----------------------+------------------------+-------------------------+\n",
      "only showing top 20 rows\n",
      "\n"
     ]
    }
   ],
   "source": [
    "clean_order_df=order_df.withColumn(\"order_purchase_date\",to_timestamp(\"order_purchase_timestamp\",\"yyyy-MM-dd HH:mm:ss\"))\\\n",
    "    .withColumn(\"order_approved_date\",to_timestamp(\"order_approved_at\",\"yyyy-MM-dd HH:mm:ss\"))\\\n",
    "    .withColumn(\"order_deli_carrier_date\",to_timestamp(\"order_delivered_carrier_date\",\"yyyy-MM-dd HH:mm:ss\")) \\\n",
    "    .withColumn(\"order_deli_customer_date\",to_timestamp(\"order_delivered_customer_date\",\"yyyy-MM-dd HH:mm:ss\")) \\\n",
    "    .withColumn(\"order_estimated_deli_date\",to_timestamp(\"order_estimated_delivery_date\",\"yyyy-MM-dd HH:mm:ss\")) \\\n",
    "    .drop(\"order_purchase_timestamp\",\"order_approved_at\",\"order_delivered_carrier_date\",\"order_delivered_customer_date\",\"order_estimated_delivery_date\")\n",
    "\n",
    "clean_order_df.show()"
   ],
   "metadata": {
    "collapsed": false,
    "pycharm": {
     "name": "#%%\n"
    }
   }
  },
  {
   "cell_type": "code",
   "execution_count": 19,
   "outputs": [
    {
     "name": "stdout",
     "output_type": "stream",
     "text": [
      "root\n",
      " |-- order_id: string (nullable = true)\n",
      " |-- customer_id: integer (nullable = true)\n",
      " |-- order_status: string (nullable = true)\n",
      " |-- order_purchase_date: timestamp (nullable = true)\n",
      " |-- order_approved_date: timestamp (nullable = true)\n",
      " |-- order_deli_carrier_date: timestamp (nullable = true)\n",
      " |-- order_deli_customer_date: timestamp (nullable = true)\n",
      " |-- order_estimated_deli_date: timestamp (nullable = true)\n",
      "\n"
     ]
    }
   ],
   "source": [
    "clean_order_df.printSchema()"
   ],
   "metadata": {
    "collapsed": false,
    "pycharm": {
     "name": "#%%\n"
    }
   }
  },
  {
   "cell_type": "code",
   "execution_count": 23,
   "outputs": [],
   "source": [
    "clean_order_df.write.jdbc(url=db_url,table=\"orders\",mode='overwrite',properties=db_properties)"
   ],
   "metadata": {
    "collapsed": false,
    "pycharm": {
     "name": "#%%\n"
    }
   }
  },
  {
   "cell_type": "markdown",
   "source": [
    "# 3. Load state csv"
   ],
   "metadata": {
    "collapsed": false,
    "pycharm": {
     "name": "#%% md\n"
    }
   }
  },
  {
   "cell_type": "code",
   "execution_count": 21,
   "outputs": [
    {
     "name": "stdout",
     "output_type": "stream",
     "text": [
      "+--------+----------+-------------------+\n",
      "|state_id|state_code|         state_name|\n",
      "+--------+----------+-------------------+\n",
      "|       1|        AC|               Acre|\n",
      "|       2|        AL|            Alagoas|\n",
      "|       3|        AP|              Amapa|\n",
      "|       4|        AM|           Amazonas|\n",
      "|       5|        BA|              Bahia|\n",
      "|       6|        CE|              Ceara|\n",
      "|       7|        DF|   Distrito Federal|\n",
      "|       8|        ES|     Espirito Santo|\n",
      "|       9|        GO|              Goias|\n",
      "|      10|        MA|           Maranhao|\n",
      "|      11|        MT|         MatoGrosso|\n",
      "|      12|        MS|  MatoGrosso do Sul|\n",
      "|      13|        MG|       Minas Gerais|\n",
      "|      14|        PA|               Para|\n",
      "|      15|        PB|            Paraiba|\n",
      "|      16|        PR|             Parana|\n",
      "|      17|        PE|         Pernambuco|\n",
      "|      18|        PI|              Piaui|\n",
      "|      19|        RJ|     Rio de Janeiro|\n",
      "|      20|        RN|Rio Grande do Norte|\n",
      "+--------+----------+-------------------+\n",
      "only showing top 20 rows\n",
      "\n"
     ]
    }
   ],
   "source": [
    "state_df=spark.read.options(header='True',inferSchema='True',delimiter=',').csv(state)\n",
    "state_df.show()"
   ],
   "metadata": {
    "collapsed": false,
    "pycharm": {
     "name": "#%%\n"
    }
   }
  },
  {
   "cell_type": "code",
   "execution_count": 22,
   "outputs": [],
   "source": [
    "state_df.write.jdbc(url=db_url,table=\"states\",mode='overwrite',properties=db_properties)"
   ],
   "metadata": {
    "collapsed": false,
    "pycharm": {
     "name": "#%%\n"
    }
   }
  },
  {
   "cell_type": "code",
   "execution_count": null,
   "outputs": [],
   "source": [],
   "metadata": {
    "collapsed": false,
    "pycharm": {
     "name": "#%%\n"
    }
   }
  }
 ],
 "metadata": {
  "kernelspec": {
   "display_name": "Python 3",
   "language": "python",
   "name": "python3"
  },
  "language_info": {
   "codemirror_mode": {
    "name": "ipython",
    "version": 2
   },
   "file_extension": ".py",
   "mimetype": "text/x-python",
   "name": "python",
   "nbconvert_exporter": "python",
   "pygments_lexer": "ipython2",
   "version": "2.7.6"
  }
 },
 "nbformat": 4,
 "nbformat_minor": 0
}